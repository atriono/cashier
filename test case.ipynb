{
 "cells": [
  {
   "cell_type": "code",
   "execution_count": 1,
   "metadata": {},
   "outputs": [],
   "source": [
    "import cashier"
   ]
  },
  {
   "cell_type": "code",
   "execution_count": 2,
   "metadata": {},
   "outputs": [
    {
     "name": "stdout",
     "output_type": "stream",
     "text": [
      "Item yang dibeli adalah:  {'ayam goreng': [2, 20000]}\n",
      "Item yang dibeli adalah:  {'ayam goreng': [2, 20000], 'pasta gigi': [3, 15000]}\n",
      "item pasta gigi  berhasil dihapus\n",
      "Semua item berhasil di delete!\n",
      "Item yang dibeli adalah:  {'Ayam Goreng': [2, 20000]}\n",
      "Item yang dibeli adalah:  {'Ayam Goreng': [2, 20000], 'Pasta Gigi': [3, 15000]}\n",
      "Item yang dibeli adalah:  {'Ayam Goreng': [2, 20000], 'Pasta Gigi': [3, 15000], 'Mainan Mobil': [1, 200000]}\n",
      "Item yang dibeli adalah:  {'Ayam Goreng': [2, 20000], 'Pasta Gigi': [3, 15000], 'Mainan Mobil': [1, 200000], 'Mi Instan': [5, 3000]}\n",
      "Total belanja yang harus dibayarkan adalah  285000.0\n",
      "{'Ayam Goreng': [2, 20000], 'Pasta Gigi': [3, 15000], 'Mainan Mobil': [1, 200000], 'Mi Instan': [5, 3000]}\n"
     ]
    }
   ],
   "source": [
    "# test case\n",
    "cashier.add_item('ayam goreng',2, 20000)\n",
    "cashier.add_item('pasta gigi',3, 15000)\n",
    "cashier.delete_item('pasta gigi')\n",
    "cashier.reset_transaction()\n",
    "cashier.add_item('Ayam Goreng',2, 20000)\n",
    "cashier.add_item('Pasta Gigi',3, 15000)\n",
    "cashier.add_item('Mainan Mobil',1, 200000)\n",
    "cashier.add_item('Mi Instan',5, 3000)\n",
    "cashier.total_price()\n",
    "cashier.check_order()"
   ]
  }
 ],
 "metadata": {
  "kernelspec": {
   "display_name": "Python 3",
   "language": "python",
   "name": "python3"
  },
  "language_info": {
   "codemirror_mode": {
    "name": "ipython",
    "version": 3
   },
   "file_extension": ".py",
   "mimetype": "text/x-python",
   "name": "python",
   "nbconvert_exporter": "python",
   "pygments_lexer": "ipython3",
   "version": "3.11.0"
  },
  "orig_nbformat": 4
 },
 "nbformat": 4,
 "nbformat_minor": 2
}
