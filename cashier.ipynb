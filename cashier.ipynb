{
 "cells": [
  {
   "cell_type": "code",
   "execution_count": 107,
   "metadata": {},
   "outputs": [],
   "source": [
    "#mendeklarasikan variabel untuk mendampung data transaksi\n",
    "trnsct_123 = {}\n",
    "\n",
    "#membuat fungsi untuk menambahkan data transaksi ke variabel\n",
    "def add_item(nama_item, jumlah_item, harga_per_item):\n",
    "    trnsct_123.update({nama_item: [jumlah_item, harga_per_item]})\n",
    "    print('Item yang dibeli adalah: ', trnsct_123) \n",
    "\n",
    "#membuat fungsi untuk mengupdate nama item ke variabel\n",
    "def update_item_name(nama_item, update_nama_item):\n",
    "    # menambahkan nama item yang baru dan menampilkan jumlah dan harga yang lama\n",
    "    nama_item_baru = update_nama_item\n",
    "    data_item_baru = trnsct_123[nama_item]\n",
    "    # menghapus data item yang lama\n",
    "    trnsct_123.pop(nama_item)\n",
    "    # mengupdate nama item yang baru dengan jumlah dan harga yang lama\n",
    "    trnsct_123.update({nama_item_baru: data_item_baru})\n",
    "    print('item ', nama_item, ' sudah berubah menjai ', nama_item_baru) \n",
    "\n",
    "#membuat fungsi untuk mengupdate jumlah item ke variabel\n",
    "def update_item_qty(nama_item, update_jumlah_item):\n",
    "    # menambahkan jumlah item yang baru dan menampilkan harga yang lama\n",
    "    data_item_baru = [update_jumlah_item, trnsct_123[nama_item][1]]\n",
    "    # mengupdate jumlah item yang baru dengan harga yang lama\n",
    "    trnsct_123.update({nama_item:  data_item_baru})\n",
    "    print('jumlah item ', nama_item, ' berhasil dirubah') \n",
    "\n",
    "def update_item_price(nama_item, update_harga_item):\n",
    "    # menambahkan harga item yang baru dan menampilkan jumlah yang lama\n",
    "    data_item_baru = [trnsct_123[nama_item][0], update_harga_item]\n",
    "    # mengupdate harga item yang baru dengan jumlah yang lama\n",
    "    trnsct_123.update({nama_item:  data_item_baru})\n",
    "    print(trnsct_123) \n",
    "\n",
    "def delete_item(nama_item):\n",
    "    # menghapus item\n",
    "    trnsct_123.pop(nama_item)\n",
    "    print('item' , trnsct_123[nama_item], ' berhasil dihapus') \n",
    "\n",
    "def reset_transaction():\n",
    "    # mereset transaksi\n",
    "    trnsct_123.clear()\n",
    "    print('Semua item berhasil di delete!') \n",
    "\n",
    "def check_order():\n",
    "    # mencetak data order\n",
    "    print(trnsct_123) \n",
    "\n",
    "def total_price():\n",
    "    # membuat list nama item\n",
    "    item_keys = list(trnsct_123.keys())\n",
    "    # menghitung jumlah item\n",
    "    jml_row = len(item_keys)\n",
    "    # membuat list kosong untuk menampung perkalian jumlah dan harga \n",
    "    total_price_item = []\n",
    "\n",
    "    # melakukan perhitung perkalian jumlah dan harga sesuai per item\n",
    "    # hasilnya ditambahkan ke list total price\n",
    "    for i in range (jml_row):\n",
    "        total_price_item.append(trnsct_123[item_keys[i]][0] * trnsct_123[item_keys[i]][1])\n",
    "\n",
    "    # menjumlahkan list total price\n",
    "    total_trans = sum(total_price_item)\n",
    "\n",
    "    # membuat kriteria diskon\n",
    "    if total_trans > 500000:\n",
    "        discount = 0.1\n",
    "    elif total_trans > 300000:\n",
    "        discount = 0.08\n",
    "    elif total_trans > 200000:\n",
    "        discount = 0.05\n",
    "\n",
    "    # mennghitung total yang harus dibayar setelah diskon\n",
    "    total_bayar = total_trans * (1- discount)\n",
    "    # mencetak total belanja yang harus dibayar\n",
    "    print('Total belanja yang harus dibayarkan adalah ', total_bayar)"
   ]
  },
  {
   "cell_type": "code",
   "execution_count": 110,
   "metadata": {},
   "outputs": [
    {
     "name": "stdout",
     "output_type": "stream",
     "text": [
      "Item yang dibeli adalah:  {'Ayam Goreng': [2, 20000], 'Pasta Gigi': [3, 15000], 'Mainan Mobil': [1, 200000], 'Mi Instan': [5, 3000], 'ayam goreng': [2, 20000]}\n",
      "Item yang dibeli adalah:  {'Ayam Goreng': [2, 20000], 'Pasta Gigi': [3, 15000], 'Mainan Mobil': [1, 200000], 'Mi Instan': [5, 3000], 'ayam goreng': [2, 20000], 'pasta gigi': [3, 15000]}\n",
      "{'Ayam Goreng': [2, 20000], 'Pasta Gigi': [3, 15000], 'Mainan Mobil': [1, 200000], 'Mi Instan': [5, 3000], 'ayam goreng': [2, 20000]}\n",
      "Semua item berhasil di delete!\n",
      "Item yang dibeli adalah:  {'Ayam Goreng': [2, 20000]}\n",
      "Item yang dibeli adalah:  {'Ayam Goreng': [2, 20000], 'Pasta Gigi': [3, 15000]}\n",
      "Item yang dibeli adalah:  {'Ayam Goreng': [2, 20000], 'Pasta Gigi': [3, 15000], 'Mainan Mobil': [1, 200000]}\n",
      "Item yang dibeli adalah:  {'Ayam Goreng': [2, 20000], 'Pasta Gigi': [3, 15000], 'Mainan Mobil': [1, 200000], 'Mi Instan': [5, 3000]}\n",
      "Total belanja yang harus dibayarkan adalah  285000.0\n",
      "{'Ayam Goreng': [2, 20000], 'Pasta Gigi': [3, 15000], 'Mainan Mobil': [1, 200000], 'Mi Instan': [5, 3000]}\n"
     ]
    }
   ],
   "source": [
    "add_item('ayam goreng',2, 20000)\n",
    "add_item('pasta gigi',3, 15000)\n",
    "delete_item('pasta gigi')\n",
    "reset_transaction()\n",
    "add_item('Ayam Goreng',2, 20000)\n",
    "add_item('Pasta Gigi',3, 15000)\n",
    "add_item('Mainan Mobil',1, 200000)\n",
    "add_item('Mi Instan',5, 3000)\n",
    "total_price()\n",
    "check_order()"
   ]
  }
 ],
 "metadata": {
  "kernelspec": {
   "display_name": "Python 3",
   "language": "python",
   "name": "python3"
  },
  "language_info": {
   "codemirror_mode": {
    "name": "ipython",
    "version": 3
   },
   "file_extension": ".py",
   "mimetype": "text/x-python",
   "name": "python",
   "nbconvert_exporter": "python",
   "pygments_lexer": "ipython3",
   "version": "3.11.0"
  },
  "orig_nbformat": 4,
  "vscode": {
   "interpreter": {
    "hash": "a415286bb542b96af65acd3be5222a3da5c86abd16638c0191a2a33005884c83"
   }
  }
 },
 "nbformat": 4,
 "nbformat_minor": 2
}
